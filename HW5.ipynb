{
  "nbformat": 4,
  "nbformat_minor": 0,
  "metadata": {
    "colab": {
      "name": "HW5.ipynb",
      "provenance": [],
      "mount_file_id": "1R2fbu9a5BqkMgT--mxk5jcvpGubjVKaP",
      "authorship_tag": "ABX9TyNvPyTI6nE6NZ6bvD6X0A/s",
      "include_colab_link": true
    },
    "kernelspec": {
      "name": "python3",
      "display_name": "Python 3"
    },
    "language_info": {
      "name": "python"
    }
  },
  "cells": [
    {
      "cell_type": "markdown",
      "metadata": {
        "id": "view-in-github",
        "colab_type": "text"
      },
      "source": [
        "<a href=\"https://colab.research.google.com/github/Shpchv/Python-for-DH/blob/main/HW5.ipynb\" target=\"_parent\"><img src=\"https://colab.research.google.com/assets/colab-badge.svg\" alt=\"Open In Colab\"/></a>"
      ]
    },
    {
      "cell_type": "code",
      "execution_count": null,
      "metadata": {
        "id": "uAEFxiJ-4OOq"
      },
      "outputs": [],
      "source": [
        "import csv "
      ]
    },
    {
      "cell_type": "code",
      "source": [
        "amh = open('/content/amh.tsv')"
      ],
      "metadata": {
        "id": "bLAmShqL4gsR"
      },
      "execution_count": null,
      "outputs": []
    },
    {
      "cell_type": "code",
      "source": [
        "amh_read = csv.reader(amh, delimiter=\"\\t\")"
      ],
      "metadata": {
        "id": "T9PTfhqy5QAo"
      },
      "execution_count": null,
      "outputs": []
    },
    {
      "cell_type": "code",
      "source": [
        "#for i in amh_read:\n",
        "  #print(row)"
      ],
      "metadata": {
        "id": "SOI54fMt6Tgh"
      },
      "execution_count": null,
      "outputs": []
    },
    {
      "cell_type": "code",
      "source": [
        "data = []"
      ],
      "metadata": {
        "id": "pyna7vDZ6mOa"
      },
      "execution_count": null,
      "outputs": []
    },
    {
      "cell_type": "code",
      "source": [
        "for i in amh_read:\n",
        "  data.append(i)"
      ],
      "metadata": {
        "id": "mrUCQKKjck0t"
      },
      "execution_count": null,
      "outputs": []
    },
    {
      "cell_type": "code",
      "source": [
        "vowel = data[0]"
      ],
      "metadata": {
        "id": "kBUiuOFS7vqw"
      },
      "execution_count": null,
      "outputs": []
    },
    {
      "cell_type": "code",
      "source": [
        "dictionary = {}\n",
        "for i in data[1:]:\n",
        "  for j, letter in enumerate(i):\n",
        "    latin = i[0]+vowel[j]\n",
        "    dictionary[letter] = latin "
      ],
      "metadata": {
        "id": "Wk0U96e970Q7"
      },
      "execution_count": null,
      "outputs": []
    },
    {
      "cell_type": "code",
      "source": [
        "user_input = input()\n",
        "output = []\n",
        "for i in user_input:\n",
        "  output.append(dictionary[i])\n",
        "print(''.join(output))"
      ],
      "metadata": {
        "colab": {
          "base_uri": "https://localhost:8080/"
        },
        "id": "QbodE1cg8a-e",
        "outputId": "f57154ce-6fd5-4706-ec82-e9e855396913"
      },
      "execution_count": null,
      "outputs": [
        {
          "output_type": "stream",
          "name": "stdout",
          "text": [
            "ስዋሂሊ\n",
            "səwaɦili\n"
          ]
        }
      ]
    }
  ]
}