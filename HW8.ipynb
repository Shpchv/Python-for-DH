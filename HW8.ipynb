{
  "nbformat": 4,
  "nbformat_minor": 0,
  "metadata": {
    "colab": {
      "name": "HW8.ipynb",
      "provenance": [],
      "authorship_tag": "ABX9TyPaLKI+yxd7tl6F8kfQc38E",
      "include_colab_link": true
    },
    "kernelspec": {
      "name": "python3",
      "display_name": "Python 3"
    },
    "language_info": {
      "name": "python"
    }
  },
  "cells": [
    {
      "cell_type": "markdown",
      "metadata": {
        "id": "view-in-github",
        "colab_type": "text"
      },
      "source": [
        "<a href=\"https://colab.research.google.com/github/Shpchv/Python-for-DH/blob/main/HW8.ipynb\" target=\"_parent\"><img src=\"https://colab.research.google.com/assets/colab-badge.svg\" alt=\"Open In Colab\"/></a>"
      ]
    },
    {
      "cell_type": "code",
      "execution_count": null,
      "metadata": {
        "id": "vxdZGHL45hdt"
      },
      "outputs": [],
      "source": [
        "import re"
      ]
    },
    {
      "cell_type": "code",
      "source": [
        "symbols  = [';', ':', '8', '&', '=', '-', '-', '—', '-', '-', ')', '(']"
      ],
      "metadata": {
        "id": "_HEN189L8Wss"
      },
      "execution_count": null,
      "outputs": []
    },
    {
      "cell_type": "code",
      "source": [
        "def check(user_input):\n",
        "  for i in user_input:\n",
        "    if i not in symbols:\n",
        "      return False \n",
        "    elif ')' in user_input and '(' in user_input:\n",
        "      return False \n",
        "    elif ':' in user_input and ';' in user_input:\n",
        "      return False \n",
        "    else:\n",
        "      return True "
      ],
      "metadata": {
        "id": "JpDnRx8C76zL"
      },
      "execution_count": null,
      "outputs": []
    },
    {
      "cell_type": "code",
      "source": [
        "def reversed(user_input):\n",
        "  res = ''\n",
        "  for i in range (len(user_input)-1,-1,-1):\n",
        "    res += user_input[i]  \n",
        "  return res"
      ],
      "metadata": {
        "id": "bE4fNnib5r9j"
      },
      "execution_count": null,
      "outputs": []
    },
    {
      "cell_type": "code",
      "source": [
        "user_input = input()\n",
        "if check(user_input):\n",
        "  print(reversed(user_input))\n",
        "else:\n",
        "  print('неподходящий смайлик')"
      ],
      "metadata": {
        "colab": {
          "base_uri": "https://localhost:8080/"
        },
        "id": "-kmag0iM7YNx",
        "outputId": "6dbc8401-363e-418f-e44d-cce8121b9a3b"
      },
      "execution_count": null,
      "outputs": [
        {
          "output_type": "stream",
          "name": "stdout",
          "text": [
            "::-----(\n",
            "(-----::\n"
          ]
        }
      ]
    }
  ]
}