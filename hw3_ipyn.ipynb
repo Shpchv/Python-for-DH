{
  "nbformat": 4,
  "nbformat_minor": 0,
  "metadata": {
    "colab": {
      "name": "hw3.ipyn",
      "provenance": [],
      "authorship_tag": "ABX9TyPP8AeWtgGiuyxBzma8Y14R",
      "include_colab_link": true
    },
    "kernelspec": {
      "name": "python3",
      "display_name": "Python 3"
    },
    "language_info": {
      "name": "python"
    }
  },
  "cells": [
    {
      "cell_type": "markdown",
      "metadata": {
        "id": "view-in-github",
        "colab_type": "text"
      },
      "source": [
        "<a href=\"https://colab.research.google.com/github/Shpchv/Python-for-DH/blob/main/hw3_ipyn.ipynb\" target=\"_parent\"><img src=\"https://colab.research.google.com/assets/colab-badge.svg\" alt=\"Open In Colab\"/></a>"
      ]
    },
    {
      "cell_type": "code",
      "source": [
        "user_input = input() + ' '\n",
        "count = 0 \n",
        "string = user_input[0]\n",
        "for i in user_input:\n",
        "  if string != i and count == 1:\n",
        "     print(string, end = '')\n",
        "     count = 0\n",
        "     string = i \n",
        "  elif string != i:\n",
        "    print(string + str(count), end = '')\n",
        "    count = 0\n",
        "    string = i \n",
        "  count += 1"
      ],
      "metadata": {
        "colab": {
          "base_uri": "https://localhost:8080/"
        },
        "id": "kqVxebufinta",
        "outputId": "93d4cac6-16e0-4ef5-d68e-8e3e2e856547"
      },
      "execution_count": null,
      "outputs": [
        {
          "output_type": "stream",
          "name": "stdout",
          "text": [
            "zzzdgssdsdhhhhshhhwejkyyyjjm\n",
            "z3dgs2dsdh4sh3wejky3j2m"
          ]
        }
      ]
    }
  ]
}